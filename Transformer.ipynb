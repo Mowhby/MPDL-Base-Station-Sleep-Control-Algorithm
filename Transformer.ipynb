{
  "nbformat": 4,
  "nbformat_minor": 0,
  "metadata": {
    "colab": {
      "provenance": []
    },
    "kernelspec": {
      "name": "python3",
      "display_name": "Python 3"
    },
    "language_info": {
      "name": "python"
    }
  },
  "cells": [
    {
      "cell_type": "code",
      "source": [
        "from google.colab import drive\n",
        "drive.mount('/content/drive/')"
      ],
      "metadata": {
        "colab": {
          "base_uri": "https://localhost:8080/"
        },
        "id": "Xct7H9cV3mNA",
        "outputId": "2cf15496-d250-4e60-97a9-0a8f69c49dbc"
      },
      "execution_count": null,
      "outputs": [
        {
          "output_type": "stream",
          "name": "stdout",
          "text": [
            "Mounted at /content/drive/\n"
          ]
        }
      ]
    },
    {
      "cell_type": "code",
      "source": [
        "import glob\n",
        "import pandas as pd\n",
        "\n",
        "file_pattern = \"/content/drive/MyDrive/ML/transformer/sms-call-internet-mi-2013-11-*.csv\"\n",
        "\n",
        "\n",
        "file_list = glob.glob(file_pattern)\n",
        "\n",
        "data = []\n",
        "\n",
        "for file_path in file_list:\n",
        "    d = pd.read_csv(file_path)\n",
        "    print(len(d))\n",
        "    data.append(d)\n",
        "dataset = pd.concat(data, ignore_index=True)\n",
        "print(len(dataset))"
      ],
      "metadata": {
        "colab": {
          "base_uri": "https://localhost:8080/"
        },
        "id": "s7RXy_--4F1t",
        "outputId": "a2316157-2644-475d-c402-d45b0135c413"
      },
      "execution_count": null,
      "outputs": [
        {
          "output_type": "stream",
          "name": "stdout",
          "text": [
            "5639488\n",
            "5874140\n",
            "5912097\n",
            "5886883\n",
            "5918856\n",
            "5052416\n",
            "4731582\n",
            "39015462\n"
          ]
        }
      ]
    },
    {
      "cell_type": "code",
      "source": [
        "print(f\"Labels (columns) in dataset: {dataset.columns.tolist()}\")"
      ],
      "metadata": {
        "colab": {
          "base_uri": "https://localhost:8080/"
        },
        "id": "SLGjoFnfFmBU",
        "outputId": "1a4dca22-291c-454e-f421-30e88beb1b99"
      },
      "execution_count": null,
      "outputs": [
        {
          "output_type": "stream",
          "name": "stdout",
          "text": [
            "Labels (columns) in dataset: ['CellID', 'datetime', 'countrycode', 'smsin', 'smsout', 'callin', 'callout', 'internet']\n"
          ]
        }
      ]
    },
    {
      "cell_type": "code",
      "execution_count": null,
      "metadata": {
        "id": "fxOQcyQ33k7G"
      },
      "outputs": [],
      "source": [
        "import pandas as pd\n",
        "import numpy as np\n",
        "import torch\n",
        "import torch.nn as nn\n",
        "from torch.utils.data import DataLoader, Dataset\n",
        "from sklearn.preprocessing import StandardScaler, LabelEncoder\n",
        "\n",
        "# Load the Milan Telecom dataset\n",
        "def process_data(data):\n",
        "    # Encode categorical variables if necessary\n",
        "    label_encoders = {}\n",
        "    for col in ['CellID', 'countrycode']:\n",
        "        le = LabelEncoder()\n",
        "        data[col] = le.fit_transform(data[col])\n",
        "        label_encoders[col] = le\n",
        "\n",
        "    # Convert datetime to numerical features\n",
        "    data['datetime'] = pd.to_datetime(data['datetime'])\n",
        "    data['hour'] = data['datetime'].dt.hour\n",
        "    data['dayofweek'] = data['datetime'].dt.dayofweek\n",
        "    data.drop(columns=['datetime'], inplace=True)\n",
        "\n",
        "    return data, label_encoders\n",
        "\n",
        "# Define Dataset class\n",
        "class TelecomDataset(Dataset):\n",
        "    def __init__(self, data, sequence_length):\n",
        "        self.data = data\n",
        "        self.sequence_length = sequence_length\n",
        "\n",
        "        # Normalize continuous variables\n",
        "        self.scaler = StandardScaler()\n",
        "        self.data.iloc[:, 2:] = self.scaler.fit_transform(self.data.iloc[:, 2:])\n",
        "\n",
        "    def __len__(self):\n",
        "        return len(self.data) - self.sequence_length\n",
        "\n",
        "    def __getitem__(self, idx):\n",
        "        seq = self.data.iloc[idx:idx + self.sequence_length].values\n",
        "        target = self.data.iloc[idx + self.sequence_length].values\n",
        "        return torch.tensor(seq, dtype=torch.float32), torch.tensor(target, dtype=torch.float32)\n",
        "\n",
        "# Define iTransformer model\n",
        "class iTransformer(nn.Module):\n",
        "    def __init__(self, input_dim, model_dim, num_heads, ff_dim, num_layers, output_dim, dropout=0.1):\n",
        "        super(iTransformer, self).__init__()\n",
        "\n",
        "        self.embedding = nn.Linear(input_dim, model_dim)\n",
        "        self.encoder_layers = nn.ModuleList([\n",
        "            nn.TransformerEncoderLayer(\n",
        "                d_model=model_dim,\n",
        "                nhead=num_heads,\n",
        "                dim_feedforward=ff_dim,\n",
        "                dropout=dropout,\n",
        "                activation=\"relu\"\n",
        "            ) for _ in range(num_layers)\n",
        "        ])\n",
        "        self.layer_norm = nn.LayerNorm(model_dim)\n",
        "        self.projection = nn.Linear(model_dim, output_dim)\n",
        "\n",
        "    def forward(self, x):\n",
        "        x = self.embedding(x)\n",
        "        for layer in self.encoder_layers:\n",
        "            x = layer(x)\n",
        "        x = self.layer_norm(x)\n",
        "        x = self.projection(x[:, -1, :])  # Use the last time step for forecasting\n",
        "        return x\n",
        "\n",
        "# Hyperparameters\n",
        "hyperparams = {\n",
        "    \"sequence_length\": 24,\n",
        "    \"batch_size\": 64,\n",
        "    \"epochs\": 50,\n",
        "    \"learning_rate\": 0.001,\n",
        "    \"model_dim\": 128,\n",
        "    \"num_heads\": 8,\n",
        "    \"ff_dim\": 256,\n",
        "    \"num_layers\": 4,\n",
        "    \"dropout\": 0.1,\n",
        "}\n",
        "\n",
        "# Training function\n",
        "def train_model(model, train_loader, criterion, optimizer, device):\n",
        "    model.train()\n",
        "    total_loss = 0\n",
        "    for seq, target in train_loader:\n",
        "        seq, target = seq.to(device), target.to(device)\n",
        "        optimizer.zero_grad()\n",
        "        output = model(seq)\n",
        "        loss = criterion(output, target)\n",
        "        loss.backward()\n",
        "        optimizer.step()\n",
        "        total_loss += loss.item()\n",
        "    return total_loss / len(train_loader)\n",
        "\n",
        "# Main function\n",
        "def main():\n",
        "    data, label_encoders = process_data(dataset)\n",
        "\n",
        "    telecom_dataset = TelecomDataset(data, hyperparams['sequence_length'])\n",
        "    train_loader = DataLoader(telecom_dataset, batch_size=hyperparams['batch_size'], shuffle=True)\n",
        "\n",
        "    device = torch.device(\"cuda\" if torch.cuda.is_available() else \"cpu\")\n",
        "    model = iTransformer(\n",
        "        input_dim=data.shape[1],\n",
        "        model_dim=hyperparams['model_dim'],\n",
        "        num_heads=hyperparams['num_heads'],\n",
        "        ff_dim=hyperparams['ff_dim'],\n",
        "        num_layers=hyperparams['num_layers'],\n",
        "        output_dim=data.shape[1],\n",
        "        dropout=hyperparams['dropout']\n",
        "    ).to(device)\n",
        "\n",
        "    criterion = nn.MSELoss()\n",
        "    optimizer = torch.optim.Adam(model.parameters(), lr=hyperparams['learning_rate'])\n",
        "\n",
        "    for epoch in range(hyperparams['epochs']):\n",
        "        train_loss = train_model(model, train_loader, criterion, optimizer, device)\n",
        "        print(f\"Epoch {epoch + 1}/{hyperparams['epochs']}, Loss: {train_loss:.4f}\")\n",
        "\n",
        "if __name__ == \"__main__\":\n",
        "    main()\n"
      ]
    }
  ]
}